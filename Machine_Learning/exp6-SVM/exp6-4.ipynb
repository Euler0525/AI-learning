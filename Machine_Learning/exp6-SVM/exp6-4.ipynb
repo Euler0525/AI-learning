{
 "cells": [
  {
   "cell_type": "markdown",
   "id": "ccf1c571-09b4-461a-8464-be4b76e4f7ab",
   "metadata": {},
   "source": [
    "## 过滤垃圾邮件"
   ]
  },
  {
   "cell_type": "code",
   "execution_count": 1,
   "id": "3e098207-fc43-4e8a-a140-6ffc83992574",
   "metadata": {},
   "outputs": [],
   "source": [
    "import scipy.io as sio\n",
    "import matplotlib.pyplot as plt\n",
    "from sklearn.svm import SVC"
   ]
  },
  {
   "cell_type": "code",
   "execution_count": 2,
   "id": "ee4cdffb-f60a-42d8-ba5c-eefa39972943",
   "metadata": {},
   "outputs": [
    {
     "data": {
      "text/plain": [
       "(dict_keys(['__header__', '__version__', '__globals__', 'X', 'y']),\n",
       " dict_keys(['__header__', '__version__', '__globals__', 'Xtest', 'ytest']))"
      ]
     },
     "execution_count": 2,
     "metadata": {},
     "output_type": "execute_result"
    }
   ],
   "source": [
    "data1 = sio.loadmat(\"./exp6data/spamTrain.mat\")\n",
    "data2 = sio.loadmat(\"./exp6data/spamTest.mat\")\n",
    "data1.keys(), data2.keys()"
   ]
  },
  {
   "cell_type": "code",
   "execution_count": 3,
   "id": "e40a9c98-67cb-405e-858d-2edb79d049f1",
   "metadata": {},
   "outputs": [],
   "source": [
    "X, y = data1[\"X\"], data1[\"y\"]\n",
    "Xtest, ytest = data2[\"Xtest\"], data2[\"ytest\"]"
   ]
  },
  {
   "cell_type": "code",
   "execution_count": 4,
   "id": "89e2a004-5b46-4037-a7db-8e07e336da55",
   "metadata": {},
   "outputs": [
    {
     "data": {
      "text/plain": [
       "((4000, 1899), (4000, 1), (1000, 1899), (1000, 1))"
      ]
     },
     "execution_count": 4,
     "metadata": {},
     "output_type": "execute_result"
    }
   ],
   "source": [
    "X.shape, y.shape, Xtest.shape, ytest.shape"
   ]
  },
  {
   "cell_type": "code",
   "execution_count": 5,
   "id": "39a4f736-f50d-4e81-a907-4e890e32ffbc",
   "metadata": {},
   "outputs": [
    {
     "name": "stdout",
     "output_type": "stream",
     "text": [
      "0.99 0.03\n"
     ]
    }
   ],
   "source": [
    "Cs = [0.01, 0.03, 0.1, 0.3, 1, 3, 10, 30, 100]\n",
    "best_score = 0\n",
    "best_param = 0\n",
    "\n",
    "for C in Cs:\n",
    "    svc = SVC(C=C, kernel=\"linear\")\n",
    "    svc.fit(X, y.flatten())\n",
    "    score = svc.score(Xtest, ytest.flatten())\n",
    "    if score > best_score:\n",
    "        best_score = score\n",
    "        best_param = C\n",
    "print(best_score, best_param)"
   ]
  },
  {
   "cell_type": "code",
   "execution_count": 6,
   "id": "73860efa-abf1-4491-81a8-10d013ab309f",
   "metadata": {},
   "outputs": [],
   "source": [
    "svc_best = SVC(C=0.03, kernel=\"linear\")\n",
    "svc_best.fit(X, y.flatten())\n",
    "train_score = svc_best.score(X, y.flatten())\n",
    "test_score = svc_best.score(Xtest, ytest.flatten())"
   ]
  },
  {
   "cell_type": "code",
   "execution_count": 7,
   "id": "efe104f4-2a76-4105-be0b-4d226437582c",
   "metadata": {},
   "outputs": [
    {
     "data": {
      "text/plain": [
       "(0.99425, 0.99)"
      ]
     },
     "execution_count": 7,
     "metadata": {},
     "output_type": "execute_result"
    }
   ],
   "source": [
    "train_score, test_score"
   ]
  }
 ],
 "metadata": {
  "kernelspec": {
   "display_name": "Python 3 (ipykernel)",
   "language": "python",
   "name": "python3"
  },
  "language_info": {
   "codemirror_mode": {
    "name": "ipython",
    "version": 3
   },
   "file_extension": ".py",
   "mimetype": "text/x-python",
   "name": "python",
   "nbconvert_exporter": "python",
   "pygments_lexer": "ipython3",
   "version": "3.11.5"
  }
 },
 "nbformat": 4,
 "nbformat_minor": 5
}
