{
 "cells": [
  {
   "cell_type": "code",
   "execution_count": 1,
   "id": "4bcac639-fab2-4861-845e-7cc75e90bdcc",
   "metadata": {},
   "outputs": [],
   "source": [
    "import numpy as np\n",
    "import pandas as pd\n",
    "import matplotlib.pyplot as plt\n",
    "from collections import Counter, defaultdict"
   ]
  },
  {
   "cell_type": "code",
   "execution_count": 2,
   "id": "8603c7a3-4121-40d6-a432-9bc14c8839d6",
   "metadata": {},
   "outputs": [
    {
     "data": {
      "text/html": [
       "<div>\n",
       "<style scoped>\n",
       "    .dataframe tbody tr th:only-of-type {\n",
       "        vertical-align: middle;\n",
       "    }\n",
       "\n",
       "    .dataframe tbody tr th {\n",
       "        vertical-align: top;\n",
       "    }\n",
       "\n",
       "    .dataframe thead th {\n",
       "        text-align: right;\n",
       "    }\n",
       "</style>\n",
       "<table border=\"1\" class=\"dataframe\">\n",
       "  <thead>\n",
       "    <tr style=\"text-align: right;\">\n",
       "      <th></th>\n",
       "      <th>年龄</th>\n",
       "      <th>有工作</th>\n",
       "      <th>有自己的房子</th>\n",
       "      <th>信贷情况</th>\n",
       "      <th>类别</th>\n",
       "    </tr>\n",
       "  </thead>\n",
       "  <tbody>\n",
       "    <tr>\n",
       "      <th>0</th>\n",
       "      <td>青年</td>\n",
       "      <td>否</td>\n",
       "      <td>否</td>\n",
       "      <td>一般</td>\n",
       "      <td>否</td>\n",
       "    </tr>\n",
       "    <tr>\n",
       "      <th>1</th>\n",
       "      <td>青年</td>\n",
       "      <td>否</td>\n",
       "      <td>否</td>\n",
       "      <td>好</td>\n",
       "      <td>否</td>\n",
       "    </tr>\n",
       "    <tr>\n",
       "      <th>2</th>\n",
       "      <td>青年</td>\n",
       "      <td>是</td>\n",
       "      <td>否</td>\n",
       "      <td>好</td>\n",
       "      <td>是</td>\n",
       "    </tr>\n",
       "    <tr>\n",
       "      <th>3</th>\n",
       "      <td>青年</td>\n",
       "      <td>是</td>\n",
       "      <td>是</td>\n",
       "      <td>一般</td>\n",
       "      <td>是</td>\n",
       "    </tr>\n",
       "    <tr>\n",
       "      <th>4</th>\n",
       "      <td>青年</td>\n",
       "      <td>否</td>\n",
       "      <td>否</td>\n",
       "      <td>一般</td>\n",
       "      <td>否</td>\n",
       "    </tr>\n",
       "    <tr>\n",
       "      <th>5</th>\n",
       "      <td>中年</td>\n",
       "      <td>否</td>\n",
       "      <td>否</td>\n",
       "      <td>一般</td>\n",
       "      <td>否</td>\n",
       "    </tr>\n",
       "    <tr>\n",
       "      <th>6</th>\n",
       "      <td>中年</td>\n",
       "      <td>否</td>\n",
       "      <td>否</td>\n",
       "      <td>好</td>\n",
       "      <td>否</td>\n",
       "    </tr>\n",
       "    <tr>\n",
       "      <th>7</th>\n",
       "      <td>中年</td>\n",
       "      <td>是</td>\n",
       "      <td>是</td>\n",
       "      <td>好</td>\n",
       "      <td>是</td>\n",
       "    </tr>\n",
       "    <tr>\n",
       "      <th>8</th>\n",
       "      <td>中年</td>\n",
       "      <td>否</td>\n",
       "      <td>是</td>\n",
       "      <td>非常好</td>\n",
       "      <td>是</td>\n",
       "    </tr>\n",
       "    <tr>\n",
       "      <th>9</th>\n",
       "      <td>中年</td>\n",
       "      <td>否</td>\n",
       "      <td>是</td>\n",
       "      <td>非常好</td>\n",
       "      <td>是</td>\n",
       "    </tr>\n",
       "    <tr>\n",
       "      <th>10</th>\n",
       "      <td>老年</td>\n",
       "      <td>否</td>\n",
       "      <td>是</td>\n",
       "      <td>非常好</td>\n",
       "      <td>是</td>\n",
       "    </tr>\n",
       "    <tr>\n",
       "      <th>11</th>\n",
       "      <td>老年</td>\n",
       "      <td>否</td>\n",
       "      <td>是</td>\n",
       "      <td>好</td>\n",
       "      <td>是</td>\n",
       "    </tr>\n",
       "    <tr>\n",
       "      <th>12</th>\n",
       "      <td>老年</td>\n",
       "      <td>是</td>\n",
       "      <td>否</td>\n",
       "      <td>好</td>\n",
       "      <td>是</td>\n",
       "    </tr>\n",
       "    <tr>\n",
       "      <th>13</th>\n",
       "      <td>老年</td>\n",
       "      <td>是</td>\n",
       "      <td>否</td>\n",
       "      <td>非常好</td>\n",
       "      <td>是</td>\n",
       "    </tr>\n",
       "    <tr>\n",
       "      <th>14</th>\n",
       "      <td>老年</td>\n",
       "      <td>否</td>\n",
       "      <td>否</td>\n",
       "      <td>一般</td>\n",
       "      <td>否</td>\n",
       "    </tr>\n",
       "  </tbody>\n",
       "</table>\n",
       "</div>"
      ],
      "text/plain": [
       "    年龄 有工作 有自己的房子 信贷情况 类别\n",
       "0   青年   否      否   一般  否\n",
       "1   青年   否      否    好  否\n",
       "2   青年   是      否    好  是\n",
       "3   青年   是      是   一般  是\n",
       "4   青年   否      否   一般  否\n",
       "5   中年   否      否   一般  否\n",
       "6   中年   否      否    好  否\n",
       "7   中年   是      是    好  是\n",
       "8   中年   否      是  非常好  是\n",
       "9   中年   否      是  非常好  是\n",
       "10  老年   否      是  非常好  是\n",
       "11  老年   否      是    好  是\n",
       "12  老年   是      否    好  是\n",
       "13  老年   是      否  非常好  是\n",
       "14  老年   否      否   一般  否"
      ]
     },
     "execution_count": 2,
     "metadata": {},
     "output_type": "execute_result"
    }
   ],
   "source": [
    "datasets = [\n",
    "    [\"青年\", \"否\", \"否\", \"一般\", \"否\"],\n",
    "    [\"青年\", \"否\", \"否\", \"好\", \"否\"],\n",
    "    [\"青年\", \"是\", \"否\", \"好\", \"是\"],\n",
    "    [\"青年\", \"是\", \"是\", \"一般\", \"是\"],\n",
    "    [\"青年\", \"否\", \"否\", \"一般\", \"否\"],\n",
    "    [\"中年\", \"否\", \"否\", \"一般\", \"否\"],\n",
    "    [\"中年\", \"否\", \"否\", \"好\", \"否\"],\n",
    "    [\"中年\", \"是\", \"是\", \"好\", \"是\"],\n",
    "    [\"中年\", \"否\", \"是\", \"非常好\", \"是\"],\n",
    "    [\"中年\", \"否\", \"是\", \"非常好\", \"是\"],\n",
    "    [\"老年\", \"否\", \"是\", \"非常好\", \"是\"],\n",
    "    [\"老年\", \"否\", \"是\", \"好\", \"是\"],\n",
    "    [\"老年\", \"是\", \"否\", \"好\", \"是\"],\n",
    "    [\"老年\", \"是\", \"否\", \"非常好\", \"是\"],\n",
    "    [\"老年\", \"否\", \"否\", \"一般\", \"否\"],\n",
    "]\n",
    "labels = [u\"年龄\", u\"有工作\", u\"有自己的房子\", u\"信贷情况\", u\"类别\"]\n",
    "train_data = pd.DataFrame(datasets, columns=labels)\n",
    "train_data"
   ]
  },
  {
   "cell_type": "code",
   "execution_count": 3,
   "id": "18a00e12-011a-4590-a715-1bbee46191ca",
   "metadata": {},
   "outputs": [],
   "source": [
    "# Entropy\n",
    "def calcEntropy(datasets):\n",
    "    length = len(datasets)\n",
    "    num_labels = Counter(datasets[i][-1] for i in range(length))\n",
    "    entropy = -sum([(count / length) * np.log2(count / length) for count in num_labels.values()])\n",
    "    # print(num_labels)\n",
    "\n",
    "    return entropy\n",
    "\n",
    "def conditionEntropy(datasets, axis=0):\n",
    "    length = len(datasets)\n",
    "    feature_sets = defaultdict(list)\n",
    "\n",
    "    for dataset in datasets:\n",
    "        feature_sets[dataset[axis]].append(dataset)\n",
    "\n",
    "    condition_entropy = sum(\n",
    "        [(len(p) / length) * calcEntropy(p) for p in feature_sets.values()]\n",
    "    )\n",
    "\n",
    "    return condition_entropy\n",
    "\n",
    "def infoGain(entropy, condition_entropy):\n",
    "    return entropy - condition_entropy\n",
    "\n",
    "def infoGainTrain(datasets):\n",
    "    cnt_features = len(datasets[0]) - 1\n",
    "    entropy = calcEntropy(datasets)\n",
    "    best_features = []\n",
    "    for i in range(cnt_features):\n",
    "        i_info_gain = infoGain(entropy, conditionEntropy(datasets, axis=i))\n",
    "        best_features.append((i, i_info_gain))\n",
    "        print('Feature({}) info_gain = {:.3f}'.format(labels[i], i_info_gain))\n",
    "    best_feature = max(best_features, key=lambda x: x[-1])\n",
    "\n",
    "    return '特征({})的信息增益最大，选择为根节点特征'.format(labels[best_feature[0]])"
   ]
  },
  {
   "cell_type": "code",
   "execution_count": 4,
   "id": "e9f990ee-79e9-4a50-b086-ac2bbd757dc6",
   "metadata": {},
   "outputs": [
    {
     "name": "stdout",
     "output_type": "stream",
     "text": [
      "Feature(年龄) info_gain = 0.083\n",
      "Feature(有工作) info_gain = 0.324\n",
      "Feature(有自己的房子) info_gain = 0.420\n",
      "Feature(信贷情况) info_gain = 0.363\n"
     ]
    },
    {
     "data": {
      "text/plain": [
       "'特征(有自己的房子)的信息增益最大，选择为根节点特征'"
      ]
     },
     "execution_count": 4,
     "metadata": {},
     "output_type": "execute_result"
    }
   ],
   "source": [
    "infoGainTrain(np.array(datasets))"
   ]
  },
  {
   "cell_type": "code",
   "execution_count": 5,
   "id": "c78466dd-b129-45d1-a726-747fbc270a77",
   "metadata": {},
   "outputs": [],
   "source": [
    "from sklearn.datasets import load_iris\n",
    "from sklearn.model_selection import train_test_split\n",
    "\n",
    "\n",
    "iris = load_iris()\n",
    "df = pd.DataFrame(iris.data, columns=iris.feature_names)\n",
    "df[\"label\"] = iris.target\n",
    "df.columns = [\n",
    "    \"sepal length\", \"sepal width\", \"petal length\", \"petal width\", \"label\"\n",
    "]\n",
    "\n",
    "data = np.array(df.iloc[:100, [0, 1, -1]])\n",
    "X = data[:, :-1]\n",
    "y = data[:, -1]\n",
    "\n",
    "X_train, X_test, y_train, y_test = train_test_split(X, y, test_size=0.3)"
   ]
  },
  {
   "cell_type": "code",
   "execution_count": 6,
   "id": "03609539",
   "metadata": {},
   "outputs": [],
   "source": [
    "import graphviz\n",
    "from sklearn.tree import export_graphviz\n",
    "from sklearn.tree import DecisionTreeClassifier"
   ]
  },
  {
   "cell_type": "code",
   "execution_count": 7,
   "id": "0bb6388c",
   "metadata": {},
   "outputs": [
    {
     "data": {
      "text/plain": [
       "1.0"
      ]
     },
     "execution_count": 7,
     "metadata": {},
     "output_type": "execute_result"
    }
   ],
   "source": [
    "clf = DecisionTreeClassifier()\n",
    "clf.fit(X_train, y_train)\n",
    "clf.score(X_test, y_test)"
   ]
  },
  {
   "cell_type": "code",
   "execution_count": 8,
   "id": "f5db386d",
   "metadata": {},
   "outputs": [
    {
     "data": {
      "text/plain": [
       "'decision_tree.pdf'"
      ]
     },
     "execution_count": 8,
     "metadata": {},
     "output_type": "execute_result"
    }
   ],
   "source": [
    "dot_data = export_graphviz(\n",
    "    clf,\n",
    "    out_file=None,\n",
    "    filled=True,\n",
    "    rounded=True,\n",
    "    special_characters=True\n",
    ")\n",
    "\n",
    "graph = graphviz.Source(dot_data)\n",
    "graph.render(\"decision_tree\", format=\"pdf\", cleanup=True)"
   ]
  }
 ],
 "metadata": {
  "kernelspec": {
   "display_name": "base",
   "language": "python",
   "name": "python3"
  },
  "language_info": {
   "codemirror_mode": {
    "name": "ipython",
    "version": 3
   },
   "file_extension": ".py",
   "mimetype": "text/x-python",
   "name": "python",
   "nbconvert_exporter": "python",
   "pygments_lexer": "ipython3",
   "version": "3.13.5"
  }
 },
 "nbformat": 4,
 "nbformat_minor": 5
}
